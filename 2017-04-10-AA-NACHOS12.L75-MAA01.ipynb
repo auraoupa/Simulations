{
 "cells": [
  {
   "cell_type": "markdown",
   "metadata": {},
   "source": [
    "# NACHOS12.L75-MAA01\n",
    "\n",
    "__creation__ : 05/04/2017\n",
    "\n",
    "__purpose__ : first test NACHOS config (20°S-80°S), same as EORCA12-MJMgd16 except no iceberg no iceshelf\n",
    "\n",
    "__outcome__ : problem with init files not masked according to NACHOS12.L75 (modifications of the bathymetry not taken into account => better mask in [NACHOS12.L75-MAA02](2017-04-10-AA-NACHOS12.L75-MAA02.html)"
   ]
  }
 ],
 "metadata": {
  "kernelspec": {
   "display_name": "Python [Root]",
   "language": "python",
   "name": "Python [Root]"
  },
  "language_info": {
   "codemirror_mode": {
    "name": "ipython",
    "version": 2
   },
   "file_extension": ".py",
   "mimetype": "text/x-python",
   "name": "python",
   "nbconvert_exporter": "python",
   "pygments_lexer": "ipython2",
   "version": "2.7.11"
  }
 },
 "nbformat": 4,
 "nbformat_minor": 0
}
