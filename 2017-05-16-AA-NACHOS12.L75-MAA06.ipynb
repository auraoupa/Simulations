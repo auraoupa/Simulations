{
 "cells": [
  {
   "cell_type": "markdown",
   "metadata": {},
   "source": [
    "# NACHOS12.L75-MAA06\n",
    "\n",
    "__creation__ : 16/05/2017\n",
    "\n",
    "__purpose__ : same as [NACHOS12.L75-MAA05](2017-05-09-AA-NACHOS12.L75-MAA05.html) with bathy file different (more baltic sea for damping purposes) and nb of procs different : 1558 procs 62x48 and 26 procs for xios\n",
    "\n",
    "__outcome__ : "
   ]
  },
  {
   "cell_type": "code",
   "execution_count": null,
   "metadata": {
    "collapsed": true
   },
   "outputs": [],
   "source": []
  }
 ],
 "metadata": {
  "kernelspec": {
   "display_name": "Python [Root]",
   "language": "python",
   "name": "Python [Root]"
  },
  "language_info": {
   "codemirror_mode": {
    "name": "ipython",
    "version": 2
   },
   "file_extension": ".py",
   "mimetype": "text/x-python",
   "name": "python",
   "nbconvert_exporter": "python",
   "pygments_lexer": "ipython2",
   "version": "2.7.11"
  }
 },
 "nbformat": 4,
 "nbformat_minor": 0
}
