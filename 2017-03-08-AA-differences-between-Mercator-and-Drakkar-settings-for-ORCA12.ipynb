{
 "cells": [
  {
   "cell_type": "markdown",
   "metadata": {},
   "source": [
    "# Differences between Mercator and Drakkar settings for ORCA12"
   ]
  },
  {
   "cell_type": "markdown",
   "metadata": {},
   "source": [
    "## 1. CPP.keys\n",
    "\n",
    "Setting | Vertical physics | Bottom boundary layer \n",
    "---- | ---- | ----\n",
    "Mercator | key_zdfgls | -\n",
    "Drakkar | key_zdftke  | key_trabbl"
   ]
  },
  {
   "cell_type": "markdown",
   "metadata": {
    "collapsed": true
   },
   "source": [
    "## 2. namelist\n",
    "\n",
    "\n",
    "Setting | Mercator  | Drakkar\n",
    "---- | ---- | ----\n",
    "__Domain namelists__ | | \n",
    "ln_s_sh94 (Song & Haidvogel 1994 hybrid S-sigma)| true | false\n",
    "rn_hmin | 12. (min depth of the ocean) | -2. (min number of ocean level)\n",
    "__Surface Boundary Condition__ |  |\n",
    "rn_pfac (multiplicative factor for precipitation)| 0.000011574 | 1.13\n",
    "rn_hrnf (depth over which enhanced vertical mixing is used)| 20.e0 | 10.e0\n",
    "rn_avt_rnf (value of the additional vertical mixing coef) | 1.e-3 | 2.e-3\n",
    "ln_ref_apr (ref. pressure: global mean Patm (T) or a constant (F)) | true | false\n",
    "__Lateral boundary condition__ |  |\n",
    "rn_shlat | 0.2 (partial slip) | 0. (free slip)\n",
    "__Bottom boundary conditions__ |  |\n",
    "rn_bfri2 | 2.5e-3 | 1.e-3\n",
    "ln_bfr2d | false | true\n",
    "ln_loglayer | true | false\n",
    "ln_trabbc | true |  false\n",
    "nn_bbl_adv (advective bbl (=1/2) or not (=0))| 0 | 1\n",
    "ln_kriteria (activate bbl only on different k level) | - | true\n",
    "__Tracer (T & S ) namelists__ |  |\n",
    "namtra_adv | TVD scheme | TVD scheme (horizontal and vertical 2nd)\n",
    "ln_mle (use the Mixed Layer Eddy (MLE) parameterisation) | true | false\n",
    "__Dynamics namelists__ |  |\n",
    "rn_avm0 (vertical eddy viscosity) | 5.2e-5 | 1.2e-4\n",
    "rn_avt0 (vertical eddy diffusivity) | 5.2e-6 | 1.2e-5\n",
    "nn_havtb (horizontal shape for avtb (=1) or not (=0)) | 0 | 1\n",
    "rn_avevd (evd mixing coefficient) | 100. | 10.\n",
    "ln_zdfnpc (Non-Penetrative Convective algorithm) | true | false\n",
    "\n"
   ]
  }
 ],
 "metadata": {
  "kernelspec": {
   "display_name": "Python [Root]",
   "language": "python",
   "name": "Python [Root]"
  },
  "language_info": {
   "codemirror_mode": {
    "name": "ipython",
    "version": 2
   },
   "file_extension": ".py",
   "mimetype": "text/x-python",
   "name": "python",
   "nbconvert_exporter": "python",
   "pygments_lexer": "ipython2",
   "version": "2.7.11"
  }
 },
 "nbformat": 4,
 "nbformat_minor": 0
}
