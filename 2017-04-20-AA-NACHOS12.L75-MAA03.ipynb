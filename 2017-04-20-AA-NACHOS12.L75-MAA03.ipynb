{
 "cells": [
  {
   "cell_type": "markdown",
   "metadata": {},
   "source": [
    "# NACHOS12.L75-MAA03\n",
    "\n",
    "__creation__ : 11/04/2017\n",
    "\n",
    "__purpose__ : same as [NACHOS12.L75-MAA02](2107-04-10-AA-NACHOS12.L75-MAA02.html) with output at the time-step frequency\n",
    "\n",
    "__outcome__ : xios error when writing ileadfra even if nn_fsbc = 1 ..."
   ]
  }
 ],
 "metadata": {
  "kernelspec": {
   "display_name": "Python [Root]",
   "language": "python",
   "name": "Python [Root]"
  },
  "language_info": {
   "codemirror_mode": {
    "name": "ipython",
    "version": 2
   },
   "file_extension": ".py",
   "mimetype": "text/x-python",
   "name": "python",
   "nbconvert_exporter": "python",
   "pygments_lexer": "ipython2",
   "version": "2.7.11"
  }
 },
 "nbformat": 4,
 "nbformat_minor": 0
}
