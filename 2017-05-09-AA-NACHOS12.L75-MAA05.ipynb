{
 "cells": [
  {
   "cell_type": "markdown",
   "metadata": {},
   "source": [
    "# NACHOS12.L75-MAA05\n",
    "\n",
    "__creation__ : 26/04/2017\n",
    "\n",
    "__purpose__ : same as [NACHOS12.L75-MAA04](2017-04-20-AA-NACHOS12.L75-MAA04.html) with init and bdy files constructed differently from GLORYS2V3 (drown + weights)\n",
    "\n",
    "__outcome__ : it runs for a few days !"
   ]
  }
 ],
 "metadata": {
  "kernelspec": {
   "display_name": "Python [Root]",
   "language": "python",
   "name": "Python [Root]"
  },
  "language_info": {
   "codemirror_mode": {
    "name": "ipython",
    "version": 2
   },
   "file_extension": ".py",
   "mimetype": "text/x-python",
   "name": "python",
   "nbconvert_exporter": "python",
   "pygments_lexer": "ipython2",
   "version": "2.7.11"
  }
 },
 "nbformat": 4,
 "nbformat_minor": 0
}
