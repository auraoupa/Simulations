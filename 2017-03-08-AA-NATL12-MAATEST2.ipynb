{
 "cells": [
  {
   "cell_type": "markdown",
   "metadata": {},
   "source": [
    "# NATL12-MAATEST2\n",
    "\n",
    "__creation__ : 24/02/2017\n",
    "\n",
    "__purpose__ : installation of NEMODRAK4.0 with correct arch file\n",
    "\n",
    "__outcome__ : compilation ok"
   ]
  },
  {
   "cell_type": "markdown",
   "metadata": {},
   "source": [
    "## CPP.keys\n",
    "\n",
    "            key_lim3 \\\n",
    "            key_mpp_mpi \\\n",
    "            key_zdfgls \\\n",
    "            key_zdfddm \\\n",
    "            key_zdftmx \\\n",
    "            key_iomput \\\n",
    "            key_xios2 \\\n",
    "                 "
   ]
  },
  {
   "cell_type": "markdown",
   "metadata": {},
   "source": [
    "## Modified routines\n",
    "\n",
    "Like in EORCA12.L75-scal  :\n",
    "\n",
    " - daymod.F90 : no restart\n",
    " - sbcrnf.F90 : negative run-off set to 0\n",
    " - sbcice_lim.F90 : no restart"
   ]
  },
  {
   "cell_type": "code",
   "execution_count": null,
   "metadata": {
    "collapsed": true
   },
   "outputs": [],
   "source": []
  }
 ],
 "metadata": {
  "kernelspec": {
   "display_name": "Python [Root]",
   "language": "python",
   "name": "Python [Root]"
  },
  "language_info": {
   "codemirror_mode": {
    "name": "ipython",
    "version": 2
   },
   "file_extension": ".py",
   "mimetype": "text/x-python",
   "name": "python",
   "nbconvert_exporter": "python",
   "pygments_lexer": "ipython2",
   "version": "2.7.11"
  }
 },
 "nbformat": 4,
 "nbformat_minor": 0
}
