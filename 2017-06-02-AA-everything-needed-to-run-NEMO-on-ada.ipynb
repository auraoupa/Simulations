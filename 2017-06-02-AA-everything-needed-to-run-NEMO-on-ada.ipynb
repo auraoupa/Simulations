{
 "cells": [
  {
   "cell_type": "markdown",
   "metadata": {},
   "source": [
    "# Recap of everything needed to run a NEMO simulation on occigen"
   ]
  },
  {
   "cell_type": "markdown",
   "metadata": {},
   "source": [
    "## Code\n",
    "\n",
    "  * [x] NEMODRAK_4.0 : git clone ssh://albert6a@meolkerg.legi.grenoble-inp.fr/home/users/molines/DEVGIT/NEMODRAK_trunk.git\n",
    "  * [x] in ~/module/NEMODRAK/ : [4.0](4.0)\n",
    "  "
   ]
  },
  {
   "cell_type": "markdown",
   "metadata": {},
   "source": [
    "## Tools\n",
    "\n",
    " * RUN_TOOLS : svn co https://servforge.legi.grenoble-inp.fr/svn/DCM/RUNTOOLS/trunk\n",
    " * XIOS : svn co -r 924 http://forge.ipsl.jussieu.fr/ioserver/svn/XIOS/trunk +  \n",
    " * MKBDY : svn co https://servforge.legi.grenoble-inp.fr/svn/wg-drakkar/MKBDYDTA\n",
    " * BATHY : BMGTOOLS  : [download](http://wwz.ifremer.fr/mars3d/Les-outils/BathyMeshGridTOOLS/Acces-aux-codes), use : .//home/albert/Work/mgtools/linux64b/check_bmg-5.0.0/CheckBMG.sh with coordinates and bathymetry files\n",
    " * MPP_PREP : in NEMODRAK_x/DRAKKAR/NEMOGCM/TOOLS/MPP_PREP, compile src/mpp_optimize\n",
    " * __tip__ : in the CONFIG dir of a given CONF-CASE simulation : dcm_mktools.ksh -a => list of all tools provided with DCM, compile with dcm_mktools.ksh -n TOOL -m X64_OCCIGEN2jm2 \n",
    " * DMONTOOLS : git clone https://github.com/meom-group/DMONTOOLS.git\n",
    " * CDFTOOLS : git clone https://github.com/meom-group/CDFTOOLS.git, branch dev_e3t\n",
    " * NCL : copy from /scratch/cnt0024/hmg2840/molines/DEV/NCL\n",
    " * CHART_COUPE : git clone https://github.com/meom-group/CHART_COUPE.git"
   ]
  },
  {
   "cell_type": "code",
   "execution_count": null,
   "metadata": {
    "collapsed": true
   },
   "outputs": [],
   "source": []
  }
 ],
 "metadata": {
  "kernelspec": {
   "display_name": "Python [Root]",
   "language": "python",
   "name": "Python [Root]"
  },
  "language_info": {
   "codemirror_mode": {
    "name": "ipython",
    "version": 2
   },
   "file_extension": ".py",
   "mimetype": "text/x-python",
   "name": "python",
   "nbconvert_exporter": "python",
   "pygments_lexer": "ipython2",
   "version": "2.7.11"
  }
 },
 "nbformat": 4,
 "nbformat_minor": 0
}
