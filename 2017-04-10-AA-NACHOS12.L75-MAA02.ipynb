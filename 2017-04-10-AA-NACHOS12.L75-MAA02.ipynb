{
 "cells": [
  {
   "cell_type": "markdown",
   "metadata": {},
   "source": [
    "# NACHOS12.L75-MAA02\n",
    "\n",
    "__creation__ : 05/04/2017\n",
    "\n",
    "__purpose__ : same as [NACHOS12.L75-MAA01](2107-04-10-AA-NACHOS12.L75-MAA01.html) except for int and dmp files, now masked according to NACHOS12\n",
    "\n",
    "__outcome__ : still bugged : some NaN appears soon after initialisation"
   ]
  }
 ],
 "metadata": {
  "kernelspec": {
   "display_name": "Python [Root]",
   "language": "python",
   "name": "Python [Root]"
  },
  "language_info": {
   "codemirror_mode": {
    "name": "ipython",
    "version": 2
   },
   "file_extension": ".py",
   "mimetype": "text/x-python",
   "name": "python",
   "nbconvert_exporter": "python",
   "pygments_lexer": "ipython2",
   "version": "2.7.11"
  }
 },
 "nbformat": 4,
 "nbformat_minor": 0
}
